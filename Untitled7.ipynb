{
  "nbformat": 4,
  "nbformat_minor": 0,
  "metadata": {
    "colab": {
      "provenance": []
    },
    "kernelspec": {
      "name": "python3",
      "display_name": "Python 3"
    },
    "language_info": {
      "name": "python"
    }
  },
  "cells": [
    {
      "cell_type": "code",
      "execution_count": 1,
      "metadata": {
        "colab": {
          "base_uri": "https://localhost:8080/"
        },
        "id": "bv8zaH9uaRWb",
        "outputId": "25013f87-bf92-42b4-c241-77e34e816f9d"
      },
      "outputs": [
        {
          "output_type": "stream",
          "name": "stdout",
          "text": [
            "Sorted Ages: [19, 19, 20, 22, 24, 24, 24, 25, 25, 26]\n",
            "Min Age: 19\n",
            "Max Age: 26\n",
            "Median Age: 24.0\n",
            "Average Age: 22.75\n",
            "Age Range: 7\n"
          ]
        }
      ],
      "source": [
        "ages = [19, 22, 19, 24, 20, 25, 26, 24, 25, 24]\n",
        "\n",
        "# Sort the list and find the min and max age\n",
        "sorted_ages = sorted(ages)\n",
        "min_age = sorted_ages[0]\n",
        "max_age = sorted_ages[-1]\n",
        "\n",
        "# Add the min age and the max age again to the list\n",
        "ages.extend([min_age, max_age])\n",
        "\n",
        "# Find the median age\n",
        "n = len(ages)\n",
        "if n % 2 == 0:\n",
        "    median_age = (sorted_ages[n//2 - 1] + sorted_ages[n//2]) / 2\n",
        "else:\n",
        "    median_age = sorted_ages[n//2]\n",
        "\n",
        "# Find the average age\n",
        "average_age = sum(ages) / len(ages)\n",
        "\n",
        "# Find the range of the ages\n",
        "age_range = max_age - min_age\n",
        "\n",
        "# Print results\n",
        "print(\"Sorted Ages:\", sorted_ages)\n",
        "print(\"Min Age:\", min_age)\n",
        "print(\"Max Age:\", max_age)\n",
        "print(\"Median Age:\", median_age)\n",
        "print(\"Average Age:\", average_age)\n",
        "print(\"Age Range:\", age_range)\n"
      ]
    },
    {
      "cell_type": "code",
      "source": [
        "# Create an empty dictionary called dog\n",
        "dog = {}\n",
        "\n",
        "# Add name, color, breed, legs, age to the dog dictionary\n",
        "dog[\"name\"] = \"Fido\"\n",
        "dog[\"color\"] = \"Brown\"\n",
        "dog[\"breed\"] = \"Labrador\"\n",
        "dog[\"legs\"] = 4\n",
        "dog[\"age\"] = 3\n",
        "\n",
        "# Create a student dictionary\n",
        "student = {\n",
        "    \"first_name\": \"John\",\n",
        "    \"last_name\": \"Doe\",\n",
        "    \"gender\": \"Male\",\n",
        "    \"age\": 25,\n",
        "    \"marital_status\": \"Single\",\n",
        "    \"skills\": [\"Python\", \"Java\", \"SQL\"],\n",
        "    \"country\": \"USA\",\n",
        "    \"city\": \"New York\",\n",
        "    \"address\": \"123 Main St\"\n",
        "}\n",
        "\n",
        "# Get the length of the student dictionary\n",
        "student_length = len(student)\n",
        "\n",
        "# Get the value of skills and check the data type\n",
        "skills_value = student[\"skills\"]\n",
        "skills_type = type(skills_value)\n",
        "\n",
        "# Modify the skills values by adding one or two skills\n",
        "student[\"skills\"].extend([\"JavaScript\", \"HTML\"])\n",
        "\n",
        "# Get the dictionary keys as a list\n",
        "student_keys = list(student.keys())\n",
        "\n",
        "# Get the dictionary values as a list\n",
        "student_values = list(student.values())\n",
        "\n",
        "# Print the results\n",
        "print(\"Dog Dictionary:\", dog)\n",
        "print(\"Student Dictionary:\", student)\n",
        "print(\"Length of Student Dictionary:\", student_length)\n",
        "print(\"Type of Skills Value:\", skills_type)\n",
        "print(\"Modified Skills:\", student[\"skills\"])\n",
        "print(\"Keys of Student Dictionary:\", student_keys)\n",
        "print(\"Values of Student Dictionary:\", student_values)\n"
      ],
      "metadata": {
        "colab": {
          "base_uri": "https://localhost:8080/"
        },
        "id": "TaKXiuoebTV2",
        "outputId": "993e9267-1979-450d-eb16-ec06761d6e5a"
      },
      "execution_count": 2,
      "outputs": [
        {
          "output_type": "stream",
          "name": "stdout",
          "text": [
            "Dog Dictionary: {'name': 'Fido', 'color': 'Brown', 'breed': 'Labrador', 'legs': 4, 'age': 3}\n",
            "Student Dictionary: {'first_name': 'John', 'last_name': 'Doe', 'gender': 'Male', 'age': 25, 'marital_status': 'Single', 'skills': ['Python', 'Java', 'SQL', 'JavaScript', 'HTML'], 'country': 'USA', 'city': 'New York', 'address': '123 Main St'}\n",
            "Length of Student Dictionary: 9\n",
            "Type of Skills Value: <class 'list'>\n",
            "Modified Skills: ['Python', 'Java', 'SQL', 'JavaScript', 'HTML']\n",
            "Keys of Student Dictionary: ['first_name', 'last_name', 'gender', 'age', 'marital_status', 'skills', 'country', 'city', 'address']\n",
            "Values of Student Dictionary: ['John', 'Doe', 'Male', 25, 'Single', ['Python', 'Java', 'SQL', 'JavaScript', 'HTML'], 'USA', 'New York', '123 Main St']\n"
          ]
        }
      ]
    },
    {
      "cell_type": "code",
      "source": [
        "# Create a tuple containing names of your sisters and your brothers\n",
        "sisters = (\"Alice\", \"Emily\")\n",
        "brothers = (\"Jack\", \"Ryan\", \"Michael\")\n",
        "\n",
        "# Join brothers and sisters tuples and assign it to siblings\n",
        "siblings = brothers + sisters\n",
        "\n",
        "# How many siblings do you have?\n",
        "num_siblings = len(siblings)\n",
        "\n",
        "# Modify the siblings tuple and add the name of your father and mother and assign it to family_members\n",
        "father = \"John\"\n",
        "mother = \"Jane\"\n",
        "family_members = (father, mother) + siblings\n",
        "\n",
        "# Print the results\n",
        "print(\"Siblings:\", siblings)\n",
        "print(\"Number of Siblings:\", num_siblings)\n",
        "print(\"Family Members:\", family_members)\n"
      ],
      "metadata": {
        "colab": {
          "base_uri": "https://localhost:8080/"
        },
        "id": "POMFzIyfcNc8",
        "outputId": "41a24bc3-bbc8-4221-a7cc-741c3ddf66e1"
      },
      "execution_count": 3,
      "outputs": [
        {
          "output_type": "stream",
          "name": "stdout",
          "text": [
            "Siblings: ('Jack', 'Ryan', 'Michael', 'Alice', 'Emily')\n",
            "Number of Siblings: 5\n",
            "Family Members: ('John', 'Jane', 'Jack', 'Ryan', 'Michael', 'Alice', 'Emily')\n"
          ]
        }
      ]
    },
    {
      "cell_type": "code",
      "source": [
        "# Given sets and list\n",
        "it_companies = {'Facebook', 'Google', 'Microsoft', 'Apple', 'IBM', 'Oracle', 'Amazon'}\n",
        "A = {19, 22, 24, 20, 25, 26}\n",
        "B = {19, 22, 20, 25, 26, 24, 28, 27}\n",
        "age = [22, 19, 24, 25, 26, 24, 25, 24]\n",
        "\n",
        "# Find the length of the set it_companies\n",
        "length_it_companies = len(it_companies)\n",
        "\n",
        "# Add 'Twitter' to it_companies\n",
        "it_companies.add('Twitter')\n",
        "\n",
        "# Insert multiple IT companies at once to the set it_companies\n",
        "it_companies.update(['LinkedIn', 'Netflix'])\n",
        "\n",
        "# Remove one of the companies from the set it_companies\n",
        "it_companies.remove('Netflix')\n",
        "\n",
        "# What is the difference between remove and discard\n",
        "# - remove(): Raises KeyError if element is not present.\n",
        "# - discard(): Does not raise any error if element is not present.\n",
        "# Example:\n",
        "# it_companies.remove('Netflix') # Raises KeyError\n",
        "# it_companies.discard('Netflix') # No error raised\n",
        "\n",
        "# Join A and B\n",
        "joined_set = A.union(B)\n",
        "\n",
        "# Find A intersection B\n",
        "intersection_set = A.intersection(B)\n",
        "\n",
        "# Is A subset of B\n",
        "is_A_subset_of_B = A.issubset(B)\n",
        "\n",
        "# Are A and B disjoint sets\n",
        "are_disjoint = A.isdisjoint(B)\n",
        "\n",
        "# Join A with B and B with A\n",
        "joined_AB = A.union(B)\n",
        "joined_BA = B.union(A)\n",
        "\n",
        "# What is the symmetric difference between A and B\n",
        "symmetric_difference = A.symmetric_difference(B)\n",
        "\n",
        "# Delete the sets completely\n",
        "del it_companies\n",
        "del A\n",
        "del B\n",
        "\n",
        "# Convert the ages to a set and compare the length of the list and the set\n",
        "ages_set = set(age)\n",
        "length_age_list = len(age)\n",
        "length_age_set = len(ages_set)\n",
        "\n",
        "# Print the results\n",
        "print(\"Length of it_companies:\", length_it_companies)\n",
        "#print(\"it_companies after adding 'Twitter' and multiple companies:\", it_companies)\n",
        "print(\"Joined set of A and B:\", joined_set)\n",
        "print(\"Intersection of A and B:\", intersection_set)\n",
        "print(\"Is A subset of B:\", is_A_subset_of_B)\n",
        "print(\"Are A and B disjoint sets:\", are_disjoint)\n",
        "print(\"Joined A with B:\", joined_AB)\n",
        "print(\"Joined B with A:\", joined_BA)\n",
        "print(\"Symmetric difference between A and B:\", symmetric_difference)\n",
        "print(\"Length of age list:\", length_age_list)\n",
        "print(\"Length of age set:\", length_age_set)\n"
      ],
      "metadata": {
        "colab": {
          "base_uri": "https://localhost:8080/"
        },
        "id": "dV885MPFc2vJ",
        "outputId": "afade605-4da4-4006-faa7-b2e7ab8ecb90"
      },
      "execution_count": 5,
      "outputs": [
        {
          "output_type": "stream",
          "name": "stdout",
          "text": [
            "Length of it_companies: 7\n",
            "Joined set of A and B: {19, 20, 22, 24, 25, 26, 27, 28}\n",
            "Intersection of A and B: {19, 20, 22, 24, 25, 26}\n",
            "Is A subset of B: True\n",
            "Are A and B disjoint sets: False\n",
            "Joined A with B: {19, 20, 22, 24, 25, 26, 27, 28}\n",
            "Joined B with A: {19, 20, 22, 24, 25, 26, 27, 28}\n",
            "Symmetric difference between A and B: {27, 28}\n",
            "Length of age list: 8\n",
            "Length of age set: 5\n"
          ]
        }
      ]
    },
    {
      "cell_type": "code",
      "source": [
        "import math\n",
        "\n",
        "# Given radius\n",
        "radius = 30\n",
        "\n",
        "# Calculate the area of a circle\n",
        "area_of_circle = math.pi * radius ** 2\n",
        "\n",
        "# Calculate the circumference of a circle\n",
        "circum_of_circle = 2 * math.pi * radius\n",
        "\n",
        "# Print the results\n",
        "print(\"Area of the circle:\", area_of_circle)\n",
        "print(\"Circumference of the circle:\", circum_of_circle)\n",
        "\n",
        "# Take radius as user input and calculate the area\n",
        "user_radius = float(input(\"Enter the radius of the circle: \"))\n",
        "user_area_of_circle = math.pi * user_radius ** 2\n",
        "print(\"Area of the circle with radius\", user_radius, \":\", user_area_of_circle)\n"
      ],
      "metadata": {
        "colab": {
          "base_uri": "https://localhost:8080/"
        },
        "id": "asVDu6FPdCD9",
        "outputId": "790675b8-cd8f-4f28-cdc2-c1654d8c6e39"
      },
      "execution_count": 6,
      "outputs": [
        {
          "output_type": "stream",
          "name": "stdout",
          "text": [
            "Area of the circle: 2827.4333882308138\n",
            "Circumference of the circle: 188.49555921538757\n",
            "Enter the radius of the circle: 1\n",
            "Area of the circle with radius 1.0 : 3.141592653589793\n"
          ]
        }
      ]
    },
    {
      "cell_type": "code",
      "source": [
        "sentence = \"I am a teacher and I love to inspire and teach people\"\n",
        "\n",
        "# Split the sentence into words\n",
        "words = sentence.split()\n",
        "\n",
        "# Convert the list of words into a set to get unique words\n",
        "unique_words = set(words)\n",
        "\n",
        "# Find the number of unique words\n",
        "num_unique_words = len(unique_words)\n",
        "\n",
        "# Print the result\n",
        "print(\"Number of unique words:\", num_unique_words)\n"
      ],
      "metadata": {
        "colab": {
          "base_uri": "https://localhost:8080/"
        },
        "id": "Sbd_My_idF_f",
        "outputId": "f0530e3d-07dd-4665-b8a5-91f523e7a3e4"
      },
      "execution_count": 7,
      "outputs": [
        {
          "output_type": "stream",
          "name": "stdout",
          "text": [
            "Number of unique words: 10\n"
          ]
        }
      ]
    },
    {
      "cell_type": "code",
      "source": [
        "print(\"Name\\tAge\\tCountry\\tCity\")\n",
        "print(\"charitha\\t21\\tFinland\\tHelsinki\")\n"
      ],
      "metadata": {
        "colab": {
          "base_uri": "https://localhost:8080/"
        },
        "id": "K-_bXjYXdPKk",
        "outputId": "5962c4e2-fb1f-47ea-947e-5ef922f4924c"
      },
      "execution_count": 10,
      "outputs": [
        {
          "output_type": "stream",
          "name": "stdout",
          "text": [
            "Name\tAge\tCountry\tCity\n",
            "charitha\t21\tFinland\tHelsinki\n"
          ]
        }
      ]
    },
    {
      "cell_type": "code",
      "source": [
        "radius = 10\n",
        "area = 3.14 * radius ** 2\n",
        "\n",
        "result = f\"The area of a circle with radius {radius} is {area} meters square.\"\n",
        "print(result)\n",
        "\n",
        "# Or if you want to display the area as an integer:\n",
        "result_int = f\"The area of a circle with radius {radius} is {int(area)} meters square.\"\n",
        "print(result_int)\n"
      ],
      "metadata": {
        "colab": {
          "base_uri": "https://localhost:8080/"
        },
        "id": "225QGfLjdxok",
        "outputId": "b0377ac6-b95b-4d41-f29f-2a635ef94532"
      },
      "execution_count": 11,
      "outputs": [
        {
          "output_type": "stream",
          "name": "stdout",
          "text": [
            "The area of a circle with radius 10 is 314.0 meters square.\n",
            "The area of a circle with radius 10 is 314 meters square.\n"
          ]
        }
      ]
    },
    {
      "cell_type": "code",
      "source": [
        "# Read the number of students from the user\n",
        "N = int(input(\"Enter the number of students: \"))\n",
        "\n",
        "# Initialize an empty list to store the weights in pounds\n",
        "weights_lbs = []\n",
        "\n",
        "# Read the weights of N students into the list\n",
        "for i in range(N):\n",
        "    weight_lbs = float(input(f\"Enter the weight of student {i+1} in pounds: \"))\n",
        "    weights_lbs.append(weight_lbs)\n",
        "\n",
        "# Convert the weights from pounds to kilograms and store them in a separate list\n",
        "weights_kg = []\n",
        "for weight_lbs in weights_lbs:\n",
        "    weight_kg = weight_lbs * 0.453592  # 1 pound is approximately 0.453592 kilograms\n",
        "    weights_kg.append(round(weight_kg, 2))  # Round to two decimal places\n",
        "\n",
        "# Print the converted weights in kilograms\n",
        "print(\"Weights in kilograms:\", weights_kg)\n"
      ],
      "metadata": {
        "colab": {
          "base_uri": "https://localhost:8080/"
        },
        "id": "KBaV6iDfd-IO",
        "outputId": "33f9cf5e-b09c-4e3e-e9fd-9633883f754f"
      },
      "execution_count": 12,
      "outputs": [
        {
          "output_type": "stream",
          "name": "stdout",
          "text": [
            "Enter the number of students: 5\n",
            "Enter the weight of student 1 in pounds: 9\n",
            "Enter the weight of student 2 in pounds: 9\n",
            "Enter the weight of student 3 in pounds: 9\n",
            "Enter the weight of student 4 in pounds: 9\n",
            "Enter the weight of student 5 in pounds: 9\n",
            "Weights in kilograms: [4.08, 4.08, 4.08, 4.08, 4.08]\n"
          ]
        }
      ]
    }
  ]
}